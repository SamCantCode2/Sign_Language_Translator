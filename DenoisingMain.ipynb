{
 "cells": [
  {
   "cell_type": "code",
   "execution_count": 1,
   "metadata": {},
   "outputs": [],
   "source": [
    "from keras.models import Sequential\n",
    "from keras.preprocessing.image import ImageDataGenerator\n",
    "from keras.layers import Conv2D, MaxPooling2D, Flatten, Dense, Dropout, Conv2DTranspose\n",
    "import os\n",
    "import numpy as np\n",
    "import matplotlib.pyplot as plt\n",
    "import cv2"
   ]
  },
  {
   "cell_type": "code",
   "execution_count": 2,
   "metadata": {},
   "outputs": [],
   "source": [
    "os.environ['CUDA_VISIBLE_DEVICES'] = '1'\n",
    "SHAPE = (300, 300)\n",
    "SHAPE2 = (300, 300, 1)"
   ]
  },
  {
   "cell_type": "code",
   "execution_count": 3,
   "metadata": {},
   "outputs": [],
   "source": [
    "def add_noise(img):\n",
    "    nf = 0.5\n",
    "    norm = np.random.normal(loc=0.0, scale=1.0, size=img.shape)\n",
    "    return img + nf + norm"
   ]
  },
  {
   "cell_type": "code",
   "execution_count": 4,
   "metadata": {},
   "outputs": [
    {
     "name": "stdout",
     "output_type": "stream",
     "text": [
      "Found 5436 images belonging to 36 classes.\n",
      "Found 5436 images belonging to 36 classes.\n"
     ]
    }
   ],
   "source": [
    "grounddata = ImageDataGenerator(rescale=1./255, shear_range=0.2, zoom_range=0.2, horizontal_flip=True, dtype='float32')\n",
    "xtrain = grounddata.flow_from_directory('data/train', target_size=SHAPE, batch_size=10, color_mode='grayscale', class_mode='categorical')\n",
    "xtest = grounddata.flow_from_directory('data/test', target_size=SHAPE, batch_size=10, color_mode='grayscale', class_mode='categorical')"
   ]
  },
  {
   "cell_type": "code",
   "execution_count": 5,
   "metadata": {},
   "outputs": [
    {
     "name": "stdout",
     "output_type": "stream",
     "text": [
      "Found 5436 images belonging to 36 classes.\n",
      "Found 5436 images belonging to 36 classes.\n"
     ]
    }
   ],
   "source": [
    "noisydata = ImageDataGenerator(rescale=1./255, shear_range=0.2, zoom_range=0.2, horizontal_flip=True, preprocessing_function=add_noise, dtype='float32')\n",
    "xtrainnoisy = noisydata.flow_from_directory('data/train', target_size=(300, 300), batch_size=10, color_mode='grayscale', class_mode='categorical')\n",
    "xtestnoisy = noisydata.flow_from_directory('data/test', target_size=(300, 300), batch_size=10, color_mode='grayscale', class_mode='categorical')"
   ]
  },
  {
   "cell_type": "code",
   "execution_count": 6,
   "metadata": {},
   "outputs": [],
   "source": [
    "classifier = Sequential()\n",
    "classifier.add(Conv2D(32, kernel_size=(3, 3), activation='relu', input_shape=SHAPE2, strides=(2, 2), padding='same'))\n",
    "classifier.add(Conv2D(16, kernel_size=(3, 3), activation='relu', strides=(2, 2), padding='same'))\n",
    "classifier.add(Conv2D(8, kernel_size=(3, 3), activation='relu', strides=(2, 2), padding='same'))\n",
    "classifier.add(Conv2DTranspose(8, kernel_size=(3,3), activation='relu', strides=(2,2), padding='same'))\n",
    "classifier.add(Conv2DTranspose(16, kernel_size=(3,3), activation='relu', strides=(2,2), padding='same'))\n",
    "classifier.add(Conv2DTranspose(32, kernel_size=(3,3), activation='relu', strides=(2,2), padding='same'))\n",
    "classifier.add(Conv2D(32, kernel_size=(3, 3), activation='relu'))\n",
    "classifier.add(MaxPooling2D(pool_size=(2, 2)))\n",
    "classifier.add(Conv2D(32, kernel_size=(3, 3), activation='relu'))\n",
    "classifier.add(MaxPooling2D(pool_size=(2, 2)))\n",
    "classifier.add(Flatten())\n",
    "classifier.add(Dense(units=128, activation='relu'))\n",
    "classifier.add(Dropout(0.50))\n",
    "classifier.add(Dense(units=96, activation='relu'))\n",
    "classifier.add(Dropout(0.50))\n",
    "classifier.add(Dense(units=64, activation='relu'))\n",
    "classifier.add(Dense(units=36, activation='softmax'))"
   ]
  },
  {
   "cell_type": "code",
   "execution_count": 7,
   "metadata": {},
   "outputs": [
    {
     "name": "stdout",
     "output_type": "stream",
     "text": [
      "Model: \"sequential\"\n",
      "_________________________________________________________________\n",
      "Layer (type)                 Output Shape              Param #   \n",
      "=================================================================\n",
      "conv2d (Conv2D)              (None, 150, 150, 32)      320       \n",
      "_________________________________________________________________\n",
      "conv2d_1 (Conv2D)            (None, 75, 75, 16)        4624      \n",
      "_________________________________________________________________\n",
      "conv2d_2 (Conv2D)            (None, 38, 38, 8)         1160      \n",
      "_________________________________________________________________\n",
      "conv2d_transpose (Conv2DTran (None, 76, 76, 8)         584       \n",
      "_________________________________________________________________\n",
      "conv2d_transpose_1 (Conv2DTr (None, 152, 152, 16)      1168      \n",
      "_________________________________________________________________\n",
      "conv2d_transpose_2 (Conv2DTr (None, 304, 304, 32)      4640      \n",
      "_________________________________________________________________\n",
      "conv2d_3 (Conv2D)            (None, 302, 302, 32)      9248      \n",
      "_________________________________________________________________\n",
      "max_pooling2d (MaxPooling2D) (None, 151, 151, 32)      0         \n",
      "_________________________________________________________________\n",
      "conv2d_4 (Conv2D)            (None, 149, 149, 32)      9248      \n",
      "_________________________________________________________________\n",
      "max_pooling2d_1 (MaxPooling2 (None, 74, 74, 32)        0         \n",
      "_________________________________________________________________\n",
      "flatten (Flatten)            (None, 175232)            0         \n",
      "_________________________________________________________________\n",
      "dense (Dense)                (None, 128)               22429824  \n",
      "_________________________________________________________________\n",
      "dropout (Dropout)            (None, 128)               0         \n",
      "_________________________________________________________________\n",
      "dense_1 (Dense)              (None, 96)                12384     \n",
      "_________________________________________________________________\n",
      "dropout_1 (Dropout)          (None, 96)                0         \n",
      "_________________________________________________________________\n",
      "dense_2 (Dense)              (None, 64)                6208      \n",
      "_________________________________________________________________\n",
      "dense_3 (Dense)              (None, 36)                2340      \n",
      "=================================================================\n",
      "Total params: 22,481,748\n",
      "Trainable params: 22,481,748\n",
      "Non-trainable params: 0\n",
      "_________________________________________________________________\n"
     ]
    }
   ],
   "source": [
    "classifier.compile(optimizer='adam', loss='categorical_crossentropy', metrics=['accuracy'])\n",
    "classifier.summary()"
   ]
  },
  {
   "cell_type": "code",
   "execution_count": 8,
   "metadata": {},
   "outputs": [
    {
     "name": "stdout",
     "output_type": "stream",
     "text": [
      "Epoch 1/100\n",
      "544/544 [==============================] - 707s 1s/step - loss: 3.5854 - accuracy: 0.0223 - val_loss: 3.5836 - val_accuracy: 0.0278\n",
      "Epoch 2/100\n",
      "544/544 [==============================] - 745s 1s/step - loss: 3.5849 - accuracy: 0.0254 - val_loss: 3.5836 - val_accuracy: 0.0278\n",
      "Epoch 3/100\n",
      "544/544 [==============================] - 738s 1s/step - loss: 3.5848 - accuracy: 0.0241 - val_loss: 3.5835 - val_accuracy: 0.0278\n",
      "Epoch 4/100\n",
      "544/544 [==============================] - 890s 2s/step - loss: 3.5846 - accuracy: 0.0248 - val_loss: 3.5835 - val_accuracy: 0.0278\n",
      "Epoch 5/100\n",
      "544/544 [==============================] - 841s 2s/step - loss: 3.5844 - accuracy: 0.0235 - val_loss: 3.5835 - val_accuracy: 0.0278\n",
      "Epoch 6/100\n",
      "544/544 [==============================] - 723s 1s/step - loss: 3.5845 - accuracy: 0.0254 - val_loss: 3.5835 - val_accuracy: 0.0278\n",
      "Epoch 7/100\n",
      "544/544 [==============================] - 736s 1s/step - loss: 3.5845 - accuracy: 0.0213 - val_loss: 3.5835 - val_accuracy: 0.0278\n",
      "Epoch 8/100\n",
      "544/544 [==============================] - 750s 1s/step - loss: 3.5844 - accuracy: 0.0201 - val_loss: 3.5835 - val_accuracy: 0.0278\n",
      "Epoch 9/100\n",
      "544/544 [==============================] - 750s 1s/step - loss: 3.5844 - accuracy: 0.0223 - val_loss: 3.5835 - val_accuracy: 0.0278\n",
      "Epoch 10/100\n",
      "544/544 [==============================] - 753s 1s/step - loss: 3.5844 - accuracy: 0.0217 - val_loss: 3.5835 - val_accuracy: 0.0278\n",
      "Epoch 11/100\n",
      "544/544 [==============================] - 768s 1s/step - loss: 3.5844 - accuracy: 0.0189 - val_loss: 3.5835 - val_accuracy: 0.0278\n",
      "Epoch 12/100\n",
      "544/544 [==============================] - 776s 1s/step - loss: 3.5844 - accuracy: 0.0237 - val_loss: 3.5835 - val_accuracy: 0.0278\n",
      "Epoch 13/100\n",
      "544/544 [==============================] - 754s 1s/step - loss: 3.5844 - accuracy: 0.0226 - val_loss: 3.5835 - val_accuracy: 0.0278\n",
      "Epoch 14/100\n",
      "501/544 [==========================>...] - ETA: 53s - loss: 3.5844 - accuracy: 0.0234"
     ]
    }
   ],
   "source": [
    "classifier.fit(xtrainnoisy,\n",
    "               epochs=100,\n",
    "               batch_size=128,\n",
    "               validation_data=xtestnoisy,\n",
    "               shuffle=True)"
   ]
  }
 ],
 "metadata": {
  "kernelspec": {
   "display_name": "Python 3",
   "language": "python",
   "name": "python3"
  },
  "language_info": {
   "codemirror_mode": {
    "name": "ipython",
    "version": 3
   },
   "file_extension": ".py",
   "mimetype": "text/x-python",
   "name": "python",
   "nbconvert_exporter": "python",
   "pygments_lexer": "ipython3",
   "version": "3.6.8"
  }
 },
 "nbformat": 4,
 "nbformat_minor": 2
}

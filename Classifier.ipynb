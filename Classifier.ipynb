{
 "cells": [
  {
   "cell_type": "code",
   "execution_count": 1,
   "metadata": {},
   "outputs": [],
   "source": [
    "import tensorflow\n",
    "import keras\n",
    "from keras import layers\n",
    "from keras.models import Sequential\n",
    "from keras.utils import image_dataset_from_directory\n",
    "import os\n",
    "import numpy as np\n",
    "import matplotlib.pyplot as plt\n",
    "import cv2"
   ]
  },
  {
   "cell_type": "code",
   "execution_count": 2,
   "metadata": {},
   "outputs": [
    {
     "name": "stdout",
     "output_type": "stream",
     "text": [
      "Found 15156 files belonging to 36 classes.\n",
      "Found 5436 files belonging to 36 classes.\n"
     ]
    }
   ],
   "source": [
    "traindata = image_dataset_from_directory('data/train', labels='inferred', label_mode='categorical', color_mode='grayscale', batch_size=64)\n",
    "testdata = image_dataset_from_directory('data/test', labels='inferred', label_mode='categorical', color_mode='grayscale', batch_size=64)"
   ]
  },
  {
   "cell_type": "code",
   "execution_count": 3,
   "metadata": {},
   "outputs": [],
   "source": [
    "classifier = Sequential()\n",
    "classifier.add(layers.Input(shape=(256, 256, 1)))\n",
    "classifier.add(layers.Conv2D(32, (3, 3), padding='same', activation='relu'))\n",
    "classifier.add(layers.MaxPool2D((2, 2), padding='same'))\n",
    "classifier.add(layers.Conv2D(32, (3, 3), padding='same', activation='relu'))\n",
    "classifier.add(layers.MaxPool2D((2, 2), padding='same'))\n",
    "classifier.add(layers.Conv2D(32, (3, 3), padding='same', activation='relu'))\n",
    "classifier.add(layers.MaxPool2D((2, 2), padding='same'))\n",
    "classifier.add(layers.Flatten())\n",
    "classifier.add(layers.Dense(units=128, activation='relu'))\n",
    "classifier.add(layers.Dropout(rate=0.4))\n",
    "classifier.add(layers.Dense(units=96, activation='relu'))\n",
    "classifier.add(layers.Dropout(rate=0.4))\n",
    "classifier.add(layers.Dense(units=64, activation='relu'))\n",
    "classifier.add(layers.Dense(units=36, activation='softmax'))\n",
    "\n",
    "classifier.compile(optimizer='adam', loss='categorical_crossentropy', metrics=['accuracy'])"
   ]
  },
  {
   "cell_type": "code",
   "execution_count": 4,
   "metadata": {},
   "outputs": [
    {
     "data": {
      "text/html": [
       "<pre style=\"white-space:pre;overflow-x:auto;line-height:normal;font-family:Menlo,'DejaVu Sans Mono',consolas,'Courier New',monospace\"><span style=\"font-weight: bold\">Model: \"sequential\"</span>\n",
       "</pre>\n"
      ],
      "text/plain": [
       "\u001b[1mModel: \"sequential\"\u001b[0m\n"
      ]
     },
     "metadata": {},
     "output_type": "display_data"
    },
    {
     "data": {
      "text/html": [
       "<pre style=\"white-space:pre;overflow-x:auto;line-height:normal;font-family:Menlo,'DejaVu Sans Mono',consolas,'Courier New',monospace\">┏━━━━━━━━━━━━━━━━━━━━━━━━━━━━━━━━━┳━━━━━━━━━━━━━━━━━━━━━━━━━━━┳━━━━━━━━━━━━┓\n",
       "┃<span style=\"font-weight: bold\"> Layer (type)                    </span>┃<span style=\"font-weight: bold\"> Output Shape              </span>┃<span style=\"font-weight: bold\">    Param # </span>┃\n",
       "┡━━━━━━━━━━━━━━━━━━━━━━━━━━━━━━━━━╇━━━━━━━━━━━━━━━━━━━━━━━━━━━╇━━━━━━━━━━━━┩\n",
       "│ conv2d (<span style=\"color: #0087ff; text-decoration-color: #0087ff\">Conv2D</span>)                 │ (<span style=\"color: #00d7ff; text-decoration-color: #00d7ff\">None</span>, <span style=\"color: #00af00; text-decoration-color: #00af00\">256</span>, <span style=\"color: #00af00; text-decoration-color: #00af00\">256</span>, <span style=\"color: #00af00; text-decoration-color: #00af00\">32</span>)      │        <span style=\"color: #00af00; text-decoration-color: #00af00\">320</span> │\n",
       "├─────────────────────────────────┼───────────────────────────┼────────────┤\n",
       "│ max_pooling2d (<span style=\"color: #0087ff; text-decoration-color: #0087ff\">MaxPooling2D</span>)    │ (<span style=\"color: #00d7ff; text-decoration-color: #00d7ff\">None</span>, <span style=\"color: #00af00; text-decoration-color: #00af00\">128</span>, <span style=\"color: #00af00; text-decoration-color: #00af00\">128</span>, <span style=\"color: #00af00; text-decoration-color: #00af00\">32</span>)      │          <span style=\"color: #00af00; text-decoration-color: #00af00\">0</span> │\n",
       "├─────────────────────────────────┼───────────────────────────┼────────────┤\n",
       "│ conv2d_1 (<span style=\"color: #0087ff; text-decoration-color: #0087ff\">Conv2D</span>)               │ (<span style=\"color: #00d7ff; text-decoration-color: #00d7ff\">None</span>, <span style=\"color: #00af00; text-decoration-color: #00af00\">128</span>, <span style=\"color: #00af00; text-decoration-color: #00af00\">128</span>, <span style=\"color: #00af00; text-decoration-color: #00af00\">32</span>)      │      <span style=\"color: #00af00; text-decoration-color: #00af00\">9,248</span> │\n",
       "├─────────────────────────────────┼───────────────────────────┼────────────┤\n",
       "│ max_pooling2d_1 (<span style=\"color: #0087ff; text-decoration-color: #0087ff\">MaxPooling2D</span>)  │ (<span style=\"color: #00d7ff; text-decoration-color: #00d7ff\">None</span>, <span style=\"color: #00af00; text-decoration-color: #00af00\">64</span>, <span style=\"color: #00af00; text-decoration-color: #00af00\">64</span>, <span style=\"color: #00af00; text-decoration-color: #00af00\">32</span>)        │          <span style=\"color: #00af00; text-decoration-color: #00af00\">0</span> │\n",
       "├─────────────────────────────────┼───────────────────────────┼────────────┤\n",
       "│ conv2d_2 (<span style=\"color: #0087ff; text-decoration-color: #0087ff\">Conv2D</span>)               │ (<span style=\"color: #00d7ff; text-decoration-color: #00d7ff\">None</span>, <span style=\"color: #00af00; text-decoration-color: #00af00\">64</span>, <span style=\"color: #00af00; text-decoration-color: #00af00\">64</span>, <span style=\"color: #00af00; text-decoration-color: #00af00\">32</span>)        │      <span style=\"color: #00af00; text-decoration-color: #00af00\">9,248</span> │\n",
       "├─────────────────────────────────┼───────────────────────────┼────────────┤\n",
       "│ max_pooling2d_2 (<span style=\"color: #0087ff; text-decoration-color: #0087ff\">MaxPooling2D</span>)  │ (<span style=\"color: #00d7ff; text-decoration-color: #00d7ff\">None</span>, <span style=\"color: #00af00; text-decoration-color: #00af00\">32</span>, <span style=\"color: #00af00; text-decoration-color: #00af00\">32</span>, <span style=\"color: #00af00; text-decoration-color: #00af00\">32</span>)        │          <span style=\"color: #00af00; text-decoration-color: #00af00\">0</span> │\n",
       "├─────────────────────────────────┼───────────────────────────┼────────────┤\n",
       "│ flatten (<span style=\"color: #0087ff; text-decoration-color: #0087ff\">Flatten</span>)               │ (<span style=\"color: #00d7ff; text-decoration-color: #00d7ff\">None</span>, <span style=\"color: #00af00; text-decoration-color: #00af00\">32768</span>)             │          <span style=\"color: #00af00; text-decoration-color: #00af00\">0</span> │\n",
       "├─────────────────────────────────┼───────────────────────────┼────────────┤\n",
       "│ dense (<span style=\"color: #0087ff; text-decoration-color: #0087ff\">Dense</span>)                   │ (<span style=\"color: #00d7ff; text-decoration-color: #00d7ff\">None</span>, <span style=\"color: #00af00; text-decoration-color: #00af00\">128</span>)               │  <span style=\"color: #00af00; text-decoration-color: #00af00\">4,194,432</span> │\n",
       "├─────────────────────────────────┼───────────────────────────┼────────────┤\n",
       "│ dropout (<span style=\"color: #0087ff; text-decoration-color: #0087ff\">Dropout</span>)               │ (<span style=\"color: #00d7ff; text-decoration-color: #00d7ff\">None</span>, <span style=\"color: #00af00; text-decoration-color: #00af00\">128</span>)               │          <span style=\"color: #00af00; text-decoration-color: #00af00\">0</span> │\n",
       "├─────────────────────────────────┼───────────────────────────┼────────────┤\n",
       "│ dense_1 (<span style=\"color: #0087ff; text-decoration-color: #0087ff\">Dense</span>)                 │ (<span style=\"color: #00d7ff; text-decoration-color: #00d7ff\">None</span>, <span style=\"color: #00af00; text-decoration-color: #00af00\">96</span>)                │     <span style=\"color: #00af00; text-decoration-color: #00af00\">12,384</span> │\n",
       "├─────────────────────────────────┼───────────────────────────┼────────────┤\n",
       "│ dropout_1 (<span style=\"color: #0087ff; text-decoration-color: #0087ff\">Dropout</span>)             │ (<span style=\"color: #00d7ff; text-decoration-color: #00d7ff\">None</span>, <span style=\"color: #00af00; text-decoration-color: #00af00\">96</span>)                │          <span style=\"color: #00af00; text-decoration-color: #00af00\">0</span> │\n",
       "├─────────────────────────────────┼───────────────────────────┼────────────┤\n",
       "│ dense_2 (<span style=\"color: #0087ff; text-decoration-color: #0087ff\">Dense</span>)                 │ (<span style=\"color: #00d7ff; text-decoration-color: #00d7ff\">None</span>, <span style=\"color: #00af00; text-decoration-color: #00af00\">64</span>)                │      <span style=\"color: #00af00; text-decoration-color: #00af00\">6,208</span> │\n",
       "├─────────────────────────────────┼───────────────────────────┼────────────┤\n",
       "│ dense_3 (<span style=\"color: #0087ff; text-decoration-color: #0087ff\">Dense</span>)                 │ (<span style=\"color: #00d7ff; text-decoration-color: #00d7ff\">None</span>, <span style=\"color: #00af00; text-decoration-color: #00af00\">36</span>)                │      <span style=\"color: #00af00; text-decoration-color: #00af00\">2,340</span> │\n",
       "└─────────────────────────────────┴───────────────────────────┴────────────┘\n",
       "</pre>\n"
      ],
      "text/plain": [
       "┏━━━━━━━━━━━━━━━━━━━━━━━━━━━━━━━━━┳━━━━━━━━━━━━━━━━━━━━━━━━━━━┳━━━━━━━━━━━━┓\n",
       "┃\u001b[1m \u001b[0m\u001b[1mLayer (type)                   \u001b[0m\u001b[1m \u001b[0m┃\u001b[1m \u001b[0m\u001b[1mOutput Shape             \u001b[0m\u001b[1m \u001b[0m┃\u001b[1m \u001b[0m\u001b[1m   Param #\u001b[0m\u001b[1m \u001b[0m┃\n",
       "┡━━━━━━━━━━━━━━━━━━━━━━━━━━━━━━━━━╇━━━━━━━━━━━━━━━━━━━━━━━━━━━╇━━━━━━━━━━━━┩\n",
       "│ conv2d (\u001b[38;5;33mConv2D\u001b[0m)                 │ (\u001b[38;5;45mNone\u001b[0m, \u001b[38;5;34m256\u001b[0m, \u001b[38;5;34m256\u001b[0m, \u001b[38;5;34m32\u001b[0m)      │        \u001b[38;5;34m320\u001b[0m │\n",
       "├─────────────────────────────────┼───────────────────────────┼────────────┤\n",
       "│ max_pooling2d (\u001b[38;5;33mMaxPooling2D\u001b[0m)    │ (\u001b[38;5;45mNone\u001b[0m, \u001b[38;5;34m128\u001b[0m, \u001b[38;5;34m128\u001b[0m, \u001b[38;5;34m32\u001b[0m)      │          \u001b[38;5;34m0\u001b[0m │\n",
       "├─────────────────────────────────┼───────────────────────────┼────────────┤\n",
       "│ conv2d_1 (\u001b[38;5;33mConv2D\u001b[0m)               │ (\u001b[38;5;45mNone\u001b[0m, \u001b[38;5;34m128\u001b[0m, \u001b[38;5;34m128\u001b[0m, \u001b[38;5;34m32\u001b[0m)      │      \u001b[38;5;34m9,248\u001b[0m │\n",
       "├─────────────────────────────────┼───────────────────────────┼────────────┤\n",
       "│ max_pooling2d_1 (\u001b[38;5;33mMaxPooling2D\u001b[0m)  │ (\u001b[38;5;45mNone\u001b[0m, \u001b[38;5;34m64\u001b[0m, \u001b[38;5;34m64\u001b[0m, \u001b[38;5;34m32\u001b[0m)        │          \u001b[38;5;34m0\u001b[0m │\n",
       "├─────────────────────────────────┼───────────────────────────┼────────────┤\n",
       "│ conv2d_2 (\u001b[38;5;33mConv2D\u001b[0m)               │ (\u001b[38;5;45mNone\u001b[0m, \u001b[38;5;34m64\u001b[0m, \u001b[38;5;34m64\u001b[0m, \u001b[38;5;34m32\u001b[0m)        │      \u001b[38;5;34m9,248\u001b[0m │\n",
       "├─────────────────────────────────┼───────────────────────────┼────────────┤\n",
       "│ max_pooling2d_2 (\u001b[38;5;33mMaxPooling2D\u001b[0m)  │ (\u001b[38;5;45mNone\u001b[0m, \u001b[38;5;34m32\u001b[0m, \u001b[38;5;34m32\u001b[0m, \u001b[38;5;34m32\u001b[0m)        │          \u001b[38;5;34m0\u001b[0m │\n",
       "├─────────────────────────────────┼───────────────────────────┼────────────┤\n",
       "│ flatten (\u001b[38;5;33mFlatten\u001b[0m)               │ (\u001b[38;5;45mNone\u001b[0m, \u001b[38;5;34m32768\u001b[0m)             │          \u001b[38;5;34m0\u001b[0m │\n",
       "├─────────────────────────────────┼───────────────────────────┼────────────┤\n",
       "│ dense (\u001b[38;5;33mDense\u001b[0m)                   │ (\u001b[38;5;45mNone\u001b[0m, \u001b[38;5;34m128\u001b[0m)               │  \u001b[38;5;34m4,194,432\u001b[0m │\n",
       "├─────────────────────────────────┼───────────────────────────┼────────────┤\n",
       "│ dropout (\u001b[38;5;33mDropout\u001b[0m)               │ (\u001b[38;5;45mNone\u001b[0m, \u001b[38;5;34m128\u001b[0m)               │          \u001b[38;5;34m0\u001b[0m │\n",
       "├─────────────────────────────────┼───────────────────────────┼────────────┤\n",
       "│ dense_1 (\u001b[38;5;33mDense\u001b[0m)                 │ (\u001b[38;5;45mNone\u001b[0m, \u001b[38;5;34m96\u001b[0m)                │     \u001b[38;5;34m12,384\u001b[0m │\n",
       "├─────────────────────────────────┼───────────────────────────┼────────────┤\n",
       "│ dropout_1 (\u001b[38;5;33mDropout\u001b[0m)             │ (\u001b[38;5;45mNone\u001b[0m, \u001b[38;5;34m96\u001b[0m)                │          \u001b[38;5;34m0\u001b[0m │\n",
       "├─────────────────────────────────┼───────────────────────────┼────────────┤\n",
       "│ dense_2 (\u001b[38;5;33mDense\u001b[0m)                 │ (\u001b[38;5;45mNone\u001b[0m, \u001b[38;5;34m64\u001b[0m)                │      \u001b[38;5;34m6,208\u001b[0m │\n",
       "├─────────────────────────────────┼───────────────────────────┼────────────┤\n",
       "│ dense_3 (\u001b[38;5;33mDense\u001b[0m)                 │ (\u001b[38;5;45mNone\u001b[0m, \u001b[38;5;34m36\u001b[0m)                │      \u001b[38;5;34m2,340\u001b[0m │\n",
       "└─────────────────────────────────┴───────────────────────────┴────────────┘\n"
      ]
     },
     "metadata": {},
     "output_type": "display_data"
    },
    {
     "data": {
      "text/html": [
       "<pre style=\"white-space:pre;overflow-x:auto;line-height:normal;font-family:Menlo,'DejaVu Sans Mono',consolas,'Courier New',monospace\"><span style=\"font-weight: bold\"> Total params: </span><span style=\"color: #00af00; text-decoration-color: #00af00\">4,234,180</span> (16.15 MB)\n",
       "</pre>\n"
      ],
      "text/plain": [
       "\u001b[1m Total params: \u001b[0m\u001b[38;5;34m4,234,180\u001b[0m (16.15 MB)\n"
      ]
     },
     "metadata": {},
     "output_type": "display_data"
    },
    {
     "data": {
      "text/html": [
       "<pre style=\"white-space:pre;overflow-x:auto;line-height:normal;font-family:Menlo,'DejaVu Sans Mono',consolas,'Courier New',monospace\"><span style=\"font-weight: bold\"> Trainable params: </span><span style=\"color: #00af00; text-decoration-color: #00af00\">4,234,180</span> (16.15 MB)\n",
       "</pre>\n"
      ],
      "text/plain": [
       "\u001b[1m Trainable params: \u001b[0m\u001b[38;5;34m4,234,180\u001b[0m (16.15 MB)\n"
      ]
     },
     "metadata": {},
     "output_type": "display_data"
    },
    {
     "data": {
      "text/html": [
       "<pre style=\"white-space:pre;overflow-x:auto;line-height:normal;font-family:Menlo,'DejaVu Sans Mono',consolas,'Courier New',monospace\"><span style=\"font-weight: bold\"> Non-trainable params: </span><span style=\"color: #00af00; text-decoration-color: #00af00\">0</span> (0.00 B)\n",
       "</pre>\n"
      ],
      "text/plain": [
       "\u001b[1m Non-trainable params: \u001b[0m\u001b[38;5;34m0\u001b[0m (0.00 B)\n"
      ]
     },
     "metadata": {},
     "output_type": "display_data"
    }
   ],
   "source": [
    "classifier.summary()"
   ]
  },
  {
   "cell_type": "code",
   "execution_count": 5,
   "metadata": {},
   "outputs": [
    {
     "name": "stdout",
     "output_type": "stream",
     "text": [
      "Epoch 1/100\n",
      "\u001b[1m237/237\u001b[0m \u001b[32m━━━━━━━━━━━━━━━━━━━━\u001b[0m\u001b[37m\u001b[0m \u001b[1m176s\u001b[0m 733ms/step - accuracy: 0.0280 - loss: 9.4368 - val_accuracy: 0.0732 - val_loss: 3.4876\n",
      "Epoch 2/100\n",
      "\u001b[1m237/237\u001b[0m \u001b[32m━━━━━━━━━━━━━━━━━━━━\u001b[0m\u001b[37m\u001b[0m \u001b[1m173s\u001b[0m 728ms/step - accuracy: 0.0641 - loss: 3.3996 - val_accuracy: 0.1341 - val_loss: 3.1077\n",
      "Epoch 3/100\n",
      "\u001b[1m237/237\u001b[0m \u001b[32m━━━━━━━━━━━━━━━━━━━━\u001b[0m\u001b[37m\u001b[0m \u001b[1m173s\u001b[0m 728ms/step - accuracy: 0.1178 - loss: 3.0738 - val_accuracy: 0.2128 - val_loss: 2.8112\n",
      "Epoch 4/100\n",
      "\u001b[1m237/237\u001b[0m \u001b[32m━━━━━━━━━━━━━━━━━━━━\u001b[0m\u001b[37m\u001b[0m \u001b[1m173s\u001b[0m 728ms/step - accuracy: 0.1782 - loss: 2.7485 - val_accuracy: 0.2840 - val_loss: 2.5561\n",
      "Epoch 5/100\n",
      "\u001b[1m237/237\u001b[0m \u001b[32m━━━━━━━━━━━━━━━━━━━━\u001b[0m\u001b[37m\u001b[0m \u001b[1m168s\u001b[0m 707ms/step - accuracy: 0.2453 - loss: 2.4339 - val_accuracy: 0.3435 - val_loss: 2.3185\n",
      "Epoch 6/100\n",
      "\u001b[1m237/237\u001b[0m \u001b[32m━━━━━━━━━━━━━━━━━━━━\u001b[0m\u001b[37m\u001b[0m \u001b[1m162s\u001b[0m 685ms/step - accuracy: 0.3267 - loss: 2.1418 - val_accuracy: 0.3567 - val_loss: 2.1068\n",
      "Epoch 7/100\n",
      "\u001b[1m237/237\u001b[0m \u001b[32m━━━━━━━━━━━━━━━━━━━━\u001b[0m\u001b[37m\u001b[0m \u001b[1m163s\u001b[0m 687ms/step - accuracy: 0.3946 - loss: 1.8598 - val_accuracy: 0.4064 - val_loss: 1.8440\n",
      "Epoch 8/100\n",
      "\u001b[1m237/237\u001b[0m \u001b[32m━━━━━━━━━━━━━━━━━━━━\u001b[0m\u001b[37m\u001b[0m \u001b[1m161s\u001b[0m 677ms/step - accuracy: 0.4556 - loss: 1.6495 - val_accuracy: 0.4352 - val_loss: 1.6852\n",
      "Epoch 9/100\n",
      "\u001b[1m237/237\u001b[0m \u001b[32m━━━━━━━━━━━━━━━━━━━━\u001b[0m\u001b[37m\u001b[0m \u001b[1m162s\u001b[0m 682ms/step - accuracy: 0.4978 - loss: 1.5048 - val_accuracy: 0.4194 - val_loss: 1.6662\n",
      "Epoch 10/100\n",
      "\u001b[1m237/237\u001b[0m \u001b[32m━━━━━━━━━━━━━━━━━━━━\u001b[0m\u001b[37m\u001b[0m \u001b[1m161s\u001b[0m 679ms/step - accuracy: 0.5345 - loss: 1.3770 - val_accuracy: 0.4334 - val_loss: 1.6345\n",
      "Epoch 11/100\n",
      "\u001b[1m237/237\u001b[0m \u001b[32m━━━━━━━━━━━━━━━━━━━━\u001b[0m\u001b[37m\u001b[0m \u001b[1m161s\u001b[0m 680ms/step - accuracy: 0.5747 - loss: 1.2768 - val_accuracy: 0.4430 - val_loss: 1.5811\n",
      "Epoch 12/100\n",
      "\u001b[1m237/237\u001b[0m \u001b[32m━━━━━━━━━━━━━━━━━━━━\u001b[0m\u001b[37m\u001b[0m \u001b[1m161s\u001b[0m 678ms/step - accuracy: 0.5985 - loss: 1.1842 - val_accuracy: 0.4520 - val_loss: 1.5856\n",
      "Epoch 13/100\n",
      "\u001b[1m237/237\u001b[0m \u001b[32m━━━━━━━━━━━━━━━━━━━━\u001b[0m\u001b[37m\u001b[0m \u001b[1m161s\u001b[0m 681ms/step - accuracy: 0.6398 - loss: 1.0671 - val_accuracy: 0.4811 - val_loss: 1.5792\n",
      "Epoch 14/100\n",
      "\u001b[1m237/237\u001b[0m \u001b[32m━━━━━━━━━━━━━━━━━━━━\u001b[0m\u001b[37m\u001b[0m \u001b[1m161s\u001b[0m 680ms/step - accuracy: 0.6598 - loss: 0.9948 - val_accuracy: 0.4358 - val_loss: 1.5909\n",
      "Epoch 15/100\n",
      "\u001b[1m237/237\u001b[0m \u001b[32m━━━━━━━━━━━━━━━━━━━━\u001b[0m\u001b[37m\u001b[0m \u001b[1m162s\u001b[0m 682ms/step - accuracy: 0.6844 - loss: 0.9208 - val_accuracy: 0.5088 - val_loss: 1.5176\n",
      "Epoch 16/100\n",
      "\u001b[1m237/237\u001b[0m \u001b[32m━━━━━━━━━━━━━━━━━━━━\u001b[0m\u001b[37m\u001b[0m \u001b[1m162s\u001b[0m 681ms/step - accuracy: 0.6941 - loss: 0.8799 - val_accuracy: 0.4864 - val_loss: 1.5111\n",
      "Epoch 17/100\n",
      "\u001b[1m237/237\u001b[0m \u001b[32m━━━━━━━━━━━━━━━━━━━━\u001b[0m\u001b[37m\u001b[0m \u001b[1m161s\u001b[0m 680ms/step - accuracy: 0.7232 - loss: 0.8117 - val_accuracy: 0.5048 - val_loss: 1.5311\n",
      "Epoch 18/100\n",
      "\u001b[1m237/237\u001b[0m \u001b[32m━━━━━━━━━━━━━━━━━━━━\u001b[0m\u001b[37m\u001b[0m \u001b[1m161s\u001b[0m 680ms/step - accuracy: 0.7398 - loss: 0.7706 - val_accuracy: 0.4798 - val_loss: 1.5787\n",
      "Epoch 19/100\n",
      "\u001b[1m237/237\u001b[0m \u001b[32m━━━━━━━━━━━━━━━━━━━━\u001b[0m\u001b[37m\u001b[0m \u001b[1m166s\u001b[0m 699ms/step - accuracy: 0.7575 - loss: 0.7394 - val_accuracy: 0.5237 - val_loss: 1.6051\n",
      "Epoch 20/100\n",
      "\u001b[1m237/237\u001b[0m \u001b[32m━━━━━━━━━━━━━━━━━━━━\u001b[0m\u001b[37m\u001b[0m \u001b[1m170s\u001b[0m 715ms/step - accuracy: 0.7556 - loss: 0.7168 - val_accuracy: 0.5269 - val_loss: 1.6253\n",
      "Epoch 21/100\n",
      "\u001b[1m237/237\u001b[0m \u001b[32m━━━━━━━━━━━━━━━━━━━━\u001b[0m\u001b[37m\u001b[0m \u001b[1m171s\u001b[0m 723ms/step - accuracy: 0.7783 - loss: 0.6545 - val_accuracy: 0.5040 - val_loss: 1.6399\n",
      "Epoch 22/100\n",
      "\u001b[1m237/237\u001b[0m \u001b[32m━━━━━━━━━━━━━━━━━━━━\u001b[0m\u001b[37m\u001b[0m \u001b[1m171s\u001b[0m 721ms/step - accuracy: 0.7808 - loss: 0.6524 - val_accuracy: 0.5283 - val_loss: 1.5576\n",
      "Epoch 23/100\n",
      "\u001b[1m237/237\u001b[0m \u001b[32m━━━━━━━━━━━━━━━━━━━━\u001b[0m\u001b[37m\u001b[0m \u001b[1m161s\u001b[0m 680ms/step - accuracy: 0.7925 - loss: 0.6023 - val_accuracy: 0.4776 - val_loss: 1.9530\n",
      "Epoch 24/100\n",
      "\u001b[1m237/237\u001b[0m \u001b[32m━━━━━━━━━━━━━━━━━━━━\u001b[0m\u001b[37m\u001b[0m \u001b[1m161s\u001b[0m 679ms/step - accuracy: 0.7964 - loss: 0.6069 - val_accuracy: 0.5142 - val_loss: 1.6675\n",
      "Epoch 25/100\n",
      "\u001b[1m237/237\u001b[0m \u001b[32m━━━━━━━━━━━━━━━━━━━━\u001b[0m\u001b[37m\u001b[0m \u001b[1m160s\u001b[0m 674ms/step - accuracy: 0.8017 - loss: 0.5949 - val_accuracy: 0.5515 - val_loss: 1.6218\n",
      "Epoch 26/100\n",
      "\u001b[1m237/237\u001b[0m \u001b[32m━━━━━━━━━━━━━━━━━━━━\u001b[0m\u001b[37m\u001b[0m \u001b[1m160s\u001b[0m 675ms/step - accuracy: 0.8146 - loss: 0.5525 - val_accuracy: 0.5109 - val_loss: 1.7682\n",
      "Epoch 27/100\n",
      "\u001b[1m237/237\u001b[0m \u001b[32m━━━━━━━━━━━━━━━━━━━━\u001b[0m\u001b[37m\u001b[0m \u001b[1m161s\u001b[0m 678ms/step - accuracy: 0.8202 - loss: 0.5386 - val_accuracy: 0.5132 - val_loss: 1.6600\n",
      "Epoch 28/100\n",
      "\u001b[1m237/237\u001b[0m \u001b[32m━━━━━━━━━━━━━━━━━━━━\u001b[0m\u001b[37m\u001b[0m \u001b[1m161s\u001b[0m 679ms/step - accuracy: 0.8160 - loss: 0.5209 - val_accuracy: 0.5344 - val_loss: 1.7551\n",
      "Epoch 29/100\n",
      "\u001b[1m237/237\u001b[0m \u001b[32m━━━━━━━━━━━━━━━━━━━━\u001b[0m\u001b[37m\u001b[0m \u001b[1m160s\u001b[0m 676ms/step - accuracy: 0.8199 - loss: 0.5193 - val_accuracy: 0.5274 - val_loss: 1.6983\n",
      "Epoch 30/100\n",
      "\u001b[1m237/237\u001b[0m \u001b[32m━━━━━━━━━━━━━━━━━━━━\u001b[0m\u001b[37m\u001b[0m \u001b[1m160s\u001b[0m 673ms/step - accuracy: 0.8386 - loss: 0.4908 - val_accuracy: 0.5235 - val_loss: 1.7290\n",
      "Epoch 31/100\n",
      "\u001b[1m237/237\u001b[0m \u001b[32m━━━━━━━━━━━━━━━━━━━━\u001b[0m\u001b[37m\u001b[0m \u001b[1m160s\u001b[0m 676ms/step - accuracy: 0.8334 - loss: 0.4852 - val_accuracy: 0.4991 - val_loss: 1.8012\n",
      "Epoch 32/100\n",
      "\u001b[1m237/237\u001b[0m \u001b[32m━━━━━━━━━━━━━━━━━━━━\u001b[0m\u001b[37m\u001b[0m \u001b[1m160s\u001b[0m 674ms/step - accuracy: 0.8358 - loss: 0.4785 - val_accuracy: 0.5281 - val_loss: 1.7309\n",
      "Epoch 33/100\n",
      "\u001b[1m237/237\u001b[0m \u001b[32m━━━━━━━━━━━━━━━━━━━━\u001b[0m\u001b[37m\u001b[0m \u001b[1m160s\u001b[0m 674ms/step - accuracy: 0.8394 - loss: 0.4707 - val_accuracy: 0.5522 - val_loss: 1.7014\n",
      "Epoch 34/100\n",
      "\u001b[1m237/237\u001b[0m \u001b[32m━━━━━━━━━━━━━━━━━━━━\u001b[0m\u001b[37m\u001b[0m \u001b[1m160s\u001b[0m 673ms/step - accuracy: 0.8383 - loss: 0.4763 - val_accuracy: 0.5368 - val_loss: 1.7641\n",
      "Epoch 35/100\n",
      "\u001b[1m237/237\u001b[0m \u001b[32m━━━━━━━━━━━━━━━━━━━━\u001b[0m\u001b[37m\u001b[0m \u001b[1m160s\u001b[0m 675ms/step - accuracy: 0.8490 - loss: 0.4452 - val_accuracy: 0.4934 - val_loss: 2.1012\n",
      "Epoch 36/100\n",
      "\u001b[1m237/237\u001b[0m \u001b[32m━━━━━━━━━━━━━━━━━━━━\u001b[0m\u001b[37m\u001b[0m \u001b[1m159s\u001b[0m 673ms/step - accuracy: 0.8545 - loss: 0.4320 - val_accuracy: 0.5097 - val_loss: 1.9043\n",
      "Epoch 37/100\n",
      "\u001b[1m237/237\u001b[0m \u001b[32m━━━━━━━━━━━━━━━━━━━━\u001b[0m\u001b[37m\u001b[0m \u001b[1m160s\u001b[0m 674ms/step - accuracy: 0.8595 - loss: 0.4183 - val_accuracy: 0.5033 - val_loss: 1.9144\n",
      "Epoch 38/100\n",
      "\u001b[1m237/237\u001b[0m \u001b[32m━━━━━━━━━━━━━━━━━━━━\u001b[0m\u001b[37m\u001b[0m \u001b[1m161s\u001b[0m 677ms/step - accuracy: 0.8661 - loss: 0.3995 - val_accuracy: 0.5272 - val_loss: 1.8280\n",
      "Epoch 39/100\n",
      "\u001b[1m237/237\u001b[0m \u001b[32m━━━━━━━━━━━━━━━━━━━━\u001b[0m\u001b[37m\u001b[0m \u001b[1m160s\u001b[0m 674ms/step - accuracy: 0.8684 - loss: 0.3973 - val_accuracy: 0.5410 - val_loss: 1.8036\n",
      "Epoch 40/100\n",
      "\u001b[1m237/237\u001b[0m \u001b[32m━━━━━━━━━━━━━━━━━━━━\u001b[0m\u001b[37m\u001b[0m \u001b[1m159s\u001b[0m 672ms/step - accuracy: 0.8700 - loss: 0.3886 - val_accuracy: 0.5655 - val_loss: 1.6903\n",
      "Epoch 41/100\n",
      "\u001b[1m237/237\u001b[0m \u001b[32m━━━━━━━━━━━━━━━━━━━━\u001b[0m\u001b[37m\u001b[0m \u001b[1m159s\u001b[0m 672ms/step - accuracy: 0.8790 - loss: 0.3489 - val_accuracy: 0.5182 - val_loss: 1.9330\n",
      "Epoch 42/100\n",
      "\u001b[1m237/237\u001b[0m \u001b[32m━━━━━━━━━━━━━━━━━━━━\u001b[0m\u001b[37m\u001b[0m \u001b[1m159s\u001b[0m 671ms/step - accuracy: 0.8725 - loss: 0.3642 - val_accuracy: 0.5740 - val_loss: 1.6846\n",
      "Epoch 43/100\n",
      "\u001b[1m237/237\u001b[0m \u001b[32m━━━━━━━━━━━━━━━━━━━━\u001b[0m\u001b[37m\u001b[0m \u001b[1m159s\u001b[0m 671ms/step - accuracy: 0.8853 - loss: 0.3364 - val_accuracy: 0.5291 - val_loss: 1.8489\n",
      "Epoch 44/100\n",
      "\u001b[1m237/237\u001b[0m \u001b[32m━━━━━━━━━━━━━━━━━━━━\u001b[0m\u001b[37m\u001b[0m \u001b[1m160s\u001b[0m 676ms/step - accuracy: 0.8892 - loss: 0.3268 - val_accuracy: 0.5416 - val_loss: 1.7961\n",
      "Epoch 45/100\n",
      "\u001b[1m237/237\u001b[0m \u001b[32m━━━━━━━━━━━━━━━━━━━━\u001b[0m\u001b[37m\u001b[0m \u001b[1m160s\u001b[0m 674ms/step - accuracy: 0.8924 - loss: 0.3167 - val_accuracy: 0.5237 - val_loss: 1.8211\n",
      "Epoch 46/100\n",
      "\u001b[1m237/237\u001b[0m \u001b[32m━━━━━━━━━━━━━━━━━━━━\u001b[0m\u001b[37m\u001b[0m \u001b[1m159s\u001b[0m 671ms/step - accuracy: 0.8934 - loss: 0.3033 - val_accuracy: 0.5487 - val_loss: 1.8172\n",
      "Epoch 47/100\n",
      "\u001b[1m237/237\u001b[0m \u001b[32m━━━━━━━━━━━━━━━━━━━━\u001b[0m\u001b[37m\u001b[0m \u001b[1m159s\u001b[0m 672ms/step - accuracy: 0.8999 - loss: 0.2843 - val_accuracy: 0.5368 - val_loss: 2.0153\n",
      "Epoch 48/100\n",
      "\u001b[1m237/237\u001b[0m \u001b[32m━━━━━━━━━━━━━━━━━━━━\u001b[0m\u001b[37m\u001b[0m \u001b[1m159s\u001b[0m 671ms/step - accuracy: 0.9023 - loss: 0.2763 - val_accuracy: 0.5234 - val_loss: 1.9366\n",
      "Epoch 49/100\n",
      "\u001b[1m237/237\u001b[0m \u001b[32m━━━━━━━━━━━━━━━━━━━━\u001b[0m\u001b[37m\u001b[0m \u001b[1m160s\u001b[0m 674ms/step - accuracy: 0.9016 - loss: 0.2783 - val_accuracy: 0.5388 - val_loss: 1.9539\n",
      "Epoch 50/100\n",
      "\u001b[1m237/237\u001b[0m \u001b[32m━━━━━━━━━━━━━━━━━━━━\u001b[0m\u001b[37m\u001b[0m \u001b[1m161s\u001b[0m 677ms/step - accuracy: 0.9091 - loss: 0.2492 - val_accuracy: 0.5114 - val_loss: 2.0691\n",
      "Epoch 51/100\n",
      "\u001b[1m237/237\u001b[0m \u001b[32m━━━━━━━━━━━━━━━━━━━━\u001b[0m\u001b[37m\u001b[0m \u001b[1m160s\u001b[0m 673ms/step - accuracy: 0.9145 - loss: 0.2485 - val_accuracy: 0.5613 - val_loss: 1.8750\n",
      "Epoch 52/100\n",
      "\u001b[1m237/237\u001b[0m \u001b[32m━━━━━━━━━━━━━━━━━━━━\u001b[0m\u001b[37m\u001b[0m \u001b[1m159s\u001b[0m 672ms/step - accuracy: 0.9139 - loss: 0.2436 - val_accuracy: 0.5232 - val_loss: 2.2755\n",
      "Epoch 53/100\n",
      "\u001b[1m237/237\u001b[0m \u001b[32m━━━━━━━━━━━━━━━━━━━━\u001b[0m\u001b[37m\u001b[0m \u001b[1m159s\u001b[0m 671ms/step - accuracy: 0.9129 - loss: 0.2421 - val_accuracy: 0.5502 - val_loss: 1.9816\n",
      "Epoch 54/100\n",
      "\u001b[1m237/237\u001b[0m \u001b[32m━━━━━━━━━━━━━━━━━━━━\u001b[0m\u001b[37m\u001b[0m \u001b[1m160s\u001b[0m 673ms/step - accuracy: 0.9116 - loss: 0.2363 - val_accuracy: 0.5679 - val_loss: 1.9879\n",
      "Epoch 55/100\n",
      "\u001b[1m237/237\u001b[0m \u001b[32m━━━━━━━━━━━━━━━━━━━━\u001b[0m\u001b[37m\u001b[0m \u001b[1m160s\u001b[0m 677ms/step - accuracy: 0.9140 - loss: 0.2392 - val_accuracy: 0.5557 - val_loss: 2.1335\n",
      "Epoch 56/100\n",
      "\u001b[1m237/237\u001b[0m \u001b[32m━━━━━━━━━━━━━━━━━━━━\u001b[0m\u001b[37m\u001b[0m \u001b[1m161s\u001b[0m 679ms/step - accuracy: 0.9173 - loss: 0.2392 - val_accuracy: 0.5559 - val_loss: 2.1609\n",
      "Epoch 57/100\n",
      "\u001b[1m237/237\u001b[0m \u001b[32m━━━━━━━━━━━━━━━━━━━━\u001b[0m\u001b[37m\u001b[0m \u001b[1m167s\u001b[0m 706ms/step - accuracy: 0.9235 - loss: 0.2133 - val_accuracy: 0.5666 - val_loss: 1.7603\n",
      "Epoch 58/100\n",
      "\u001b[1m237/237\u001b[0m \u001b[32m━━━━━━━━━━━━━━━━━━━━\u001b[0m\u001b[37m\u001b[0m \u001b[1m160s\u001b[0m 677ms/step - accuracy: 0.9242 - loss: 0.2103 - val_accuracy: 0.5403 - val_loss: 2.1119\n",
      "Epoch 59/100\n",
      "\u001b[1m237/237\u001b[0m \u001b[32m━━━━━━━━━━━━━━━━━━━━\u001b[0m\u001b[37m\u001b[0m \u001b[1m162s\u001b[0m 682ms/step - accuracy: 0.9231 - loss: 0.2052 - val_accuracy: 0.5482 - val_loss: 2.0317\n",
      "Epoch 60/100\n",
      "\u001b[1m237/237\u001b[0m \u001b[32m━━━━━━━━━━━━━━━━━━━━\u001b[0m\u001b[37m\u001b[0m \u001b[1m161s\u001b[0m 679ms/step - accuracy: 0.9243 - loss: 0.2047 - val_accuracy: 0.5543 - val_loss: 1.9372\n",
      "Epoch 61/100\n",
      "\u001b[1m237/237\u001b[0m \u001b[32m━━━━━━━━━━━━━━━━━━━━\u001b[0m\u001b[37m\u001b[0m \u001b[1m160s\u001b[0m 676ms/step - accuracy: 0.9198 - loss: 0.2138 - val_accuracy: 0.5522 - val_loss: 1.9878\n",
      "Epoch 62/100\n",
      "\u001b[1m237/237\u001b[0m \u001b[32m━━━━━━━━━━━━━━━━━━━━\u001b[0m\u001b[37m\u001b[0m \u001b[1m159s\u001b[0m 672ms/step - accuracy: 0.9293 - loss: 0.1914 - val_accuracy: 0.6095 - val_loss: 1.6852\n",
      "Epoch 63/100\n",
      "\u001b[1m237/237\u001b[0m \u001b[32m━━━━━━━━━━━━━━━━━━━━\u001b[0m\u001b[37m\u001b[0m \u001b[1m159s\u001b[0m 672ms/step - accuracy: 0.9340 - loss: 0.1722 - val_accuracy: 0.5887 - val_loss: 1.8269\n",
      "Epoch 64/100\n",
      "\u001b[1m237/237\u001b[0m \u001b[32m━━━━━━━━━━━━━━━━━━━━\u001b[0m\u001b[37m\u001b[0m \u001b[1m159s\u001b[0m 671ms/step - accuracy: 0.9306 - loss: 0.1846 - val_accuracy: 0.5826 - val_loss: 2.2858\n",
      "Epoch 65/100\n",
      "\u001b[1m237/237\u001b[0m \u001b[32m━━━━━━━━━━━━━━━━━━━━\u001b[0m\u001b[37m\u001b[0m \u001b[1m159s\u001b[0m 672ms/step - accuracy: 0.9313 - loss: 0.1795 - val_accuracy: 0.5556 - val_loss: 2.0550\n",
      "Epoch 66/100\n",
      "\u001b[1m237/237\u001b[0m \u001b[32m━━━━━━━━━━━━━━━━━━━━\u001b[0m\u001b[37m\u001b[0m \u001b[1m159s\u001b[0m 671ms/step - accuracy: 0.9328 - loss: 0.1766 - val_accuracy: 0.5857 - val_loss: 1.8172\n",
      "Epoch 67/100\n",
      "\u001b[1m237/237\u001b[0m \u001b[32m━━━━━━━━━━━━━━━━━━━━\u001b[0m\u001b[37m\u001b[0m \u001b[1m160s\u001b[0m 677ms/step - accuracy: 0.9370 - loss: 0.1623 - val_accuracy: 0.5940 - val_loss: 1.8140\n",
      "Epoch 68/100\n",
      "\u001b[1m237/237\u001b[0m \u001b[32m━━━━━━━━━━━━━━━━━━━━\u001b[0m\u001b[37m\u001b[0m \u001b[1m159s\u001b[0m 671ms/step - accuracy: 0.9291 - loss: 0.1841 - val_accuracy: 0.5822 - val_loss: 1.9074\n",
      "Epoch 69/100\n",
      "\u001b[1m237/237\u001b[0m \u001b[32m━━━━━━━━━━━━━━━━━━━━\u001b[0m\u001b[37m\u001b[0m \u001b[1m159s\u001b[0m 672ms/step - accuracy: 0.9330 - loss: 0.1722 - val_accuracy: 0.5865 - val_loss: 1.9828\n",
      "Epoch 70/100\n",
      "\u001b[1m237/237\u001b[0m \u001b[32m━━━━━━━━━━━━━━━━━━━━\u001b[0m\u001b[37m\u001b[0m \u001b[1m159s\u001b[0m 671ms/step - accuracy: 0.9326 - loss: 0.1829 - val_accuracy: 0.5946 - val_loss: 1.6165\n",
      "Epoch 71/100\n",
      "\u001b[1m237/237\u001b[0m \u001b[32m━━━━━━━━━━━━━━━━━━━━\u001b[0m\u001b[37m\u001b[0m \u001b[1m159s\u001b[0m 671ms/step - accuracy: 0.9401 - loss: 0.1553 - val_accuracy: 0.5491 - val_loss: 2.2992\n",
      "Epoch 72/100\n",
      "\u001b[1m237/237\u001b[0m \u001b[32m━━━━━━━━━━━━━━━━━━━━\u001b[0m\u001b[37m\u001b[0m \u001b[1m161s\u001b[0m 680ms/step - accuracy: 0.9378 - loss: 0.1603 - val_accuracy: 0.5655 - val_loss: 2.2144\n",
      "Epoch 73/100\n",
      "\u001b[1m237/237\u001b[0m \u001b[32m━━━━━━━━━━━━━━━━━━━━\u001b[0m\u001b[37m\u001b[0m \u001b[1m160s\u001b[0m 673ms/step - accuracy: 0.9458 - loss: 0.1576 - val_accuracy: 0.5532 - val_loss: 2.3688\n",
      "Epoch 74/100\n",
      "\u001b[1m237/237\u001b[0m \u001b[32m━━━━━━━━━━━━━━━━━━━━\u001b[0m\u001b[37m\u001b[0m \u001b[1m159s\u001b[0m 673ms/step - accuracy: 0.9500 - loss: 0.1482 - val_accuracy: 0.5929 - val_loss: 1.9812\n",
      "Epoch 75/100\n",
      "\u001b[1m237/237\u001b[0m \u001b[32m━━━━━━━━━━━━━━━━━━━━\u001b[0m\u001b[37m\u001b[0m \u001b[1m160s\u001b[0m 673ms/step - accuracy: 0.9590 - loss: 0.1374 - val_accuracy: 0.5412 - val_loss: 2.0151\n",
      "Epoch 76/100\n",
      "\u001b[1m237/237\u001b[0m \u001b[32m━━━━━━━━━━━━━━━━━━━━\u001b[0m\u001b[37m\u001b[0m \u001b[1m160s\u001b[0m 673ms/step - accuracy: 0.9564 - loss: 0.1362 - val_accuracy: 0.5708 - val_loss: 2.1281\n",
      "Epoch 77/100\n",
      "\u001b[1m237/237\u001b[0m \u001b[32m━━━━━━━━━━━━━━━━━━━━\u001b[0m\u001b[37m\u001b[0m \u001b[1m160s\u001b[0m 674ms/step - accuracy: 0.9608 - loss: 0.1260 - val_accuracy: 0.5900 - val_loss: 2.3349\n",
      "Epoch 78/100\n",
      "\u001b[1m237/237\u001b[0m \u001b[32m━━━━━━━━━━━━━━━━━━━━\u001b[0m\u001b[37m\u001b[0m \u001b[1m162s\u001b[0m 682ms/step - accuracy: 0.9598 - loss: 0.1228 - val_accuracy: 0.5603 - val_loss: 2.2276\n",
      "Epoch 79/100\n",
      "\u001b[1m237/237\u001b[0m \u001b[32m━━━━━━━━━━━━━━━━━━━━\u001b[0m\u001b[37m\u001b[0m \u001b[1m159s\u001b[0m 671ms/step - accuracy: 0.9626 - loss: 0.1114 - val_accuracy: 0.6026 - val_loss: 1.9063\n",
      "Epoch 80/100\n",
      "\u001b[1m237/237\u001b[0m \u001b[32m━━━━━━━━━━━━━━━━━━━━\u001b[0m\u001b[37m\u001b[0m \u001b[1m160s\u001b[0m 675ms/step - accuracy: 0.9630 - loss: 0.1190 - val_accuracy: 0.5510 - val_loss: 2.5935\n",
      "Epoch 81/100\n",
      "\u001b[1m237/237\u001b[0m \u001b[32m━━━━━━━━━━━━━━━━━━━━\u001b[0m\u001b[37m\u001b[0m \u001b[1m159s\u001b[0m 671ms/step - accuracy: 0.9644 - loss: 0.1134 - val_accuracy: 0.5957 - val_loss: 1.9476\n",
      "Epoch 82/100\n",
      "\u001b[1m237/237\u001b[0m \u001b[32m━━━━━━━━━━━━━━━━━━━━\u001b[0m\u001b[37m\u001b[0m \u001b[1m159s\u001b[0m 673ms/step - accuracy: 0.9679 - loss: 0.1106 - val_accuracy: 0.5855 - val_loss: 1.7416\n",
      "Epoch 83/100\n",
      "\u001b[1m237/237\u001b[0m \u001b[32m━━━━━━━━━━━━━━━━━━━━\u001b[0m\u001b[37m\u001b[0m \u001b[1m159s\u001b[0m 673ms/step - accuracy: 0.9693 - loss: 0.0981 - val_accuracy: 0.5708 - val_loss: 2.2469\n",
      "Epoch 84/100\n",
      "\u001b[1m237/237\u001b[0m \u001b[32m━━━━━━━━━━━━━━━━━━━━\u001b[0m\u001b[37m\u001b[0m \u001b[1m160s\u001b[0m 674ms/step - accuracy: 0.9704 - loss: 0.1030 - val_accuracy: 0.5933 - val_loss: 1.9057\n",
      "Epoch 85/100\n",
      "\u001b[1m237/237\u001b[0m \u001b[32m━━━━━━━━━━━━━━━━━━━━\u001b[0m\u001b[37m\u001b[0m \u001b[1m159s\u001b[0m 672ms/step - accuracy: 0.9655 - loss: 0.1121 - val_accuracy: 0.5868 - val_loss: 1.7551\n",
      "Epoch 86/100\n",
      "\u001b[1m237/237\u001b[0m \u001b[32m━━━━━━━━━━━━━━━━━━━━\u001b[0m\u001b[37m\u001b[0m \u001b[1m159s\u001b[0m 671ms/step - accuracy: 0.9717 - loss: 0.1001 - val_accuracy: 0.5493 - val_loss: 2.5376\n",
      "Epoch 87/100\n",
      "\u001b[1m237/237\u001b[0m \u001b[32m━━━━━━━━━━━━━━━━━━━━\u001b[0m\u001b[37m\u001b[0m \u001b[1m159s\u001b[0m 671ms/step - accuracy: 0.9713 - loss: 0.0917 - val_accuracy: 0.5659 - val_loss: 2.0400\n",
      "Epoch 88/100\n",
      "\u001b[1m237/237\u001b[0m \u001b[32m━━━━━━━━━━━━━━━━━━━━\u001b[0m\u001b[37m\u001b[0m \u001b[1m159s\u001b[0m 670ms/step - accuracy: 0.9687 - loss: 0.1015 - val_accuracy: 0.5809 - val_loss: 2.1264\n",
      "Epoch 89/100\n",
      "\u001b[1m237/237\u001b[0m \u001b[32m━━━━━━━━━━━━━━━━━━━━\u001b[0m\u001b[37m\u001b[0m \u001b[1m159s\u001b[0m 672ms/step - accuracy: 0.9729 - loss: 0.0966 - val_accuracy: 0.6049 - val_loss: 2.1283\n",
      "Epoch 90/100\n",
      "\u001b[1m237/237\u001b[0m \u001b[32m━━━━━━━━━━━━━━━━━━━━\u001b[0m\u001b[37m\u001b[0m \u001b[1m160s\u001b[0m 676ms/step - accuracy: 0.9712 - loss: 0.1001 - val_accuracy: 0.5480 - val_loss: 2.6198\n",
      "Epoch 91/100\n",
      "\u001b[1m237/237\u001b[0m \u001b[32m━━━━━━━━━━━━━━━━━━━━\u001b[0m\u001b[37m\u001b[0m \u001b[1m160s\u001b[0m 673ms/step - accuracy: 0.9718 - loss: 0.0916 - val_accuracy: 0.5430 - val_loss: 2.9316\n",
      "Epoch 92/100\n",
      "\u001b[1m237/237\u001b[0m \u001b[32m━━━━━━━━━━━━━━━━━━━━\u001b[0m\u001b[37m\u001b[0m \u001b[1m159s\u001b[0m 670ms/step - accuracy: 0.9729 - loss: 0.0926 - val_accuracy: 0.5640 - val_loss: 2.2102\n",
      "Epoch 93/100\n",
      "\u001b[1m237/237\u001b[0m \u001b[32m━━━━━━━━━━━━━━━━━━━━\u001b[0m\u001b[37m\u001b[0m \u001b[1m159s\u001b[0m 671ms/step - accuracy: 0.9744 - loss: 0.0898 - val_accuracy: 0.5745 - val_loss: 2.2107\n",
      "Epoch 94/100\n",
      "\u001b[1m237/237\u001b[0m \u001b[32m━━━━━━━━━━━━━━━━━━━━\u001b[0m\u001b[37m\u001b[0m \u001b[1m159s\u001b[0m 672ms/step - accuracy: 0.9768 - loss: 0.0842 - val_accuracy: 0.6021 - val_loss: 2.0759\n",
      "Epoch 95/100\n",
      "\u001b[1m237/237\u001b[0m \u001b[32m━━━━━━━━━━━━━━━━━━━━\u001b[0m\u001b[37m\u001b[0m \u001b[1m161s\u001b[0m 679ms/step - accuracy: 0.9764 - loss: 0.0842 - val_accuracy: 0.5620 - val_loss: 2.7455\n",
      "Epoch 96/100\n",
      "\u001b[1m237/237\u001b[0m \u001b[32m━━━━━━━━━━━━━━━━━━━━\u001b[0m\u001b[37m\u001b[0m \u001b[1m160s\u001b[0m 674ms/step - accuracy: 0.9765 - loss: 0.0827 - val_accuracy: 0.5664 - val_loss: 2.7613\n",
      "Epoch 97/100\n",
      "\u001b[1m237/237\u001b[0m \u001b[32m━━━━━━━━━━━━━━━━━━━━\u001b[0m\u001b[37m\u001b[0m \u001b[1m159s\u001b[0m 671ms/step - accuracy: 0.9762 - loss: 0.0842 - val_accuracy: 0.5835 - val_loss: 2.0142\n",
      "Epoch 98/100\n",
      "\u001b[1m237/237\u001b[0m \u001b[32m━━━━━━━━━━━━━━━━━━━━\u001b[0m\u001b[37m\u001b[0m \u001b[1m159s\u001b[0m 673ms/step - accuracy: 0.9805 - loss: 0.0732 - val_accuracy: 0.6174 - val_loss: 1.9601\n",
      "Epoch 99/100\n",
      "\u001b[1m237/237\u001b[0m \u001b[32m━━━━━━━━━━━━━━━━━━━━\u001b[0m\u001b[37m\u001b[0m \u001b[1m159s\u001b[0m 672ms/step - accuracy: 0.9787 - loss: 0.0759 - val_accuracy: 0.5857 - val_loss: 2.3254\n",
      "Epoch 100/100\n",
      "\u001b[1m237/237\u001b[0m \u001b[32m━━━━━━━━━━━━━━━━━━━━\u001b[0m\u001b[37m\u001b[0m \u001b[1m159s\u001b[0m 671ms/step - accuracy: 0.9778 - loss: 0.0729 - val_accuracy: 0.6023 - val_loss: 2.1178\n"
     ]
    },
    {
     "data": {
      "text/plain": [
       "<keras.src.callbacks.history.History at 0x218fed62a50>"
      ]
     },
     "execution_count": 5,
     "metadata": {},
     "output_type": "execute_result"
    }
   ],
   "source": [
    "classifier.fit(traindata,\n",
    "               epochs=100,\n",
    "               batch_size=64,\n",
    "               shuffle=True,\n",
    "               validation_data=testdata)"
   ]
  },
  {
   "cell_type": "code",
   "execution_count": 6,
   "metadata": {},
   "outputs": [],
   "source": [
    "classjson = classifier.to_json()"
   ]
  },
  {
   "cell_type": "code",
   "execution_count": 7,
   "metadata": {},
   "outputs": [
    {
     "name": "stdout",
     "output_type": "stream",
     "text": [
      "Successful Model Save\n",
      "Weights successfully saved\n"
     ]
    }
   ],
   "source": [
    "with open('models/classifier_model.json', \"w\") as jsdump:\n",
    "    jsdump.write(classjson)\n",
    "    print(\"Successful Model Save\")\n",
    "    classifier.save_weights('classifier.weights.h5')\n",
    "    print(\"Weights successfully saved\")"
   ]
  },
  {
   "cell_type": "markdown",
   "metadata": {},
   "source": [
    "Lighting and camera quality (main) tend to cause issues with the classification and parts of the image themself are unclear in the scenario and cause lower accuracy."
   ]
  }
 ],
 "metadata": {
  "kernelspec": {
   "display_name": "Python 3",
   "language": "python",
   "name": "python3"
  },
  "language_info": {
   "codemirror_mode": {
    "name": "ipython",
    "version": 3
   },
   "file_extension": ".py",
   "mimetype": "text/x-python",
   "name": "python",
   "nbconvert_exporter": "python",
   "pygments_lexer": "ipython3",
   "version": "3.11.6"
  }
 },
 "nbformat": 4,
 "nbformat_minor": 2
}
